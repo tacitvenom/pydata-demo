{
 "cells": [
  {
   "cell_type": "code",
   "execution_count": 1,
   "id": "44ef80e9-e170-48ca-a483-4d834f6e9c5b",
   "metadata": {},
   "outputs": [],
   "source": [
    "import pandas as pd\n",
    "from kartothek.api.dataset import read_table, store_dataframes_as_dataset\n"
   ]
  },
  {
   "cell_type": "code",
   "execution_count": 2,
   "id": "c3bf6542-927c-4884-8081-0ecf08e38fac",
   "metadata": {},
   "outputs": [],
   "source": [
    "from tempfile import TemporaryDirectory\n",
    "dataset_dir = TemporaryDirectory()\n",
    "store_url = f\"hfs://{dataset_dir.name}\"\n",
    "\n"
   ]
  },
  {
   "cell_type": "code",
   "execution_count": 3,
   "id": "970d5697-7b29-45de-9647-2ebda9509c84",
   "metadata": {},
   "outputs": [],
   "source": [
    "df = pd.DataFrame(\n",
    "    {\n",
    "        'a': [1, 2, 4.5],\n",
    "        'b':['one', 'two', 'three']\n",
    "    }\n",
    ")"
   ]
  },
  {
   "cell_type": "code",
   "execution_count": 7,
   "id": "148612e8-fd6e-473c-adac-9cc53719c2ef",
   "metadata": {},
   "outputs": [
    {
     "data": {
      "text/plain": [
       "\u001b[0;31mSignature:\u001b[0m\n",
       "\u001b[0mstore_dataframes_as_dataset\u001b[0m\u001b[0;34m(\u001b[0m\u001b[0;34m\u001b[0m\n",
       "\u001b[0;34m\u001b[0m    \u001b[0mstore\u001b[0m\u001b[0;34m:\u001b[0m \u001b[0msimplekv\u001b[0m\u001b[0;34m.\u001b[0m\u001b[0mKeyValueStore\u001b[0m\u001b[0;34m,\u001b[0m\u001b[0;34m\u001b[0m\n",
       "\u001b[0;34m\u001b[0m    \u001b[0mdataset_uuid\u001b[0m\u001b[0;34m:\u001b[0m \u001b[0mstr\u001b[0m\u001b[0;34m,\u001b[0m\u001b[0;34m\u001b[0m\n",
       "\u001b[0;34m\u001b[0m    \u001b[0mdfs\u001b[0m\u001b[0;34m:\u001b[0m \u001b[0mList\u001b[0m\u001b[0;34m[\u001b[0m\u001b[0mUnion\u001b[0m\u001b[0;34m[\u001b[0m\u001b[0mpandas\u001b[0m\u001b[0;34m.\u001b[0m\u001b[0mcore\u001b[0m\u001b[0;34m.\u001b[0m\u001b[0mframe\u001b[0m\u001b[0;34m.\u001b[0m\u001b[0mDataFrame\u001b[0m\u001b[0;34m,\u001b[0m \u001b[0mDict\u001b[0m\u001b[0;34m[\u001b[0m\u001b[0mstr\u001b[0m\u001b[0;34m,\u001b[0m \u001b[0mpandas\u001b[0m\u001b[0;34m.\u001b[0m\u001b[0mcore\u001b[0m\u001b[0;34m.\u001b[0m\u001b[0mframe\u001b[0m\u001b[0;34m.\u001b[0m\u001b[0mDataFrame\u001b[0m\u001b[0;34m]\u001b[0m\u001b[0;34m]\u001b[0m\u001b[0;34m]\u001b[0m\u001b[0;34m,\u001b[0m\u001b[0;34m\u001b[0m\n",
       "\u001b[0;34m\u001b[0m    \u001b[0mmetadata\u001b[0m\u001b[0;34m:\u001b[0m \u001b[0mUnion\u001b[0m\u001b[0;34m[\u001b[0m\u001b[0mDict\u001b[0m\u001b[0;34m[\u001b[0m\u001b[0mstr\u001b[0m\u001b[0;34m,\u001b[0m \u001b[0mDict\u001b[0m\u001b[0;34m[\u001b[0m\u001b[0mstr\u001b[0m\u001b[0;34m,\u001b[0m \u001b[0mAny\u001b[0m\u001b[0;34m]\u001b[0m\u001b[0;34m]\u001b[0m\u001b[0;34m,\u001b[0m \u001b[0mNoneType\u001b[0m\u001b[0;34m]\u001b[0m \u001b[0;34m=\u001b[0m \u001b[0;32mNone\u001b[0m\u001b[0;34m,\u001b[0m\u001b[0;34m\u001b[0m\n",
       "\u001b[0;34m\u001b[0m    \u001b[0mpartition_on\u001b[0m\u001b[0;34m:\u001b[0m \u001b[0mUnion\u001b[0m\u001b[0;34m[\u001b[0m\u001b[0mList\u001b[0m\u001b[0;34m[\u001b[0m\u001b[0mstr\u001b[0m\u001b[0;34m]\u001b[0m\u001b[0;34m,\u001b[0m \u001b[0mNoneType\u001b[0m\u001b[0;34m]\u001b[0m \u001b[0;34m=\u001b[0m \u001b[0;32mNone\u001b[0m\u001b[0;34m,\u001b[0m\u001b[0;34m\u001b[0m\n",
       "\u001b[0;34m\u001b[0m    \u001b[0mdf_serializer\u001b[0m\u001b[0;34m:\u001b[0m \u001b[0mUnion\u001b[0m\u001b[0;34m[\u001b[0m\u001b[0mkartothek\u001b[0m\u001b[0;34m.\u001b[0m\u001b[0mserialization\u001b[0m\u001b[0;34m.\u001b[0m\u001b[0m_parquet\u001b[0m\u001b[0;34m.\u001b[0m\u001b[0mParquetSerializer\u001b[0m\u001b[0;34m,\u001b[0m \u001b[0mNoneType\u001b[0m\u001b[0;34m]\u001b[0m \u001b[0;34m=\u001b[0m \u001b[0;32mNone\u001b[0m\u001b[0;34m,\u001b[0m\u001b[0;34m\u001b[0m\n",
       "\u001b[0;34m\u001b[0m    \u001b[0moverwrite\u001b[0m\u001b[0;34m:\u001b[0m \u001b[0mbool\u001b[0m \u001b[0;34m=\u001b[0m \u001b[0;32mFalse\u001b[0m\u001b[0;34m,\u001b[0m\u001b[0;34m\u001b[0m\n",
       "\u001b[0;34m\u001b[0m    \u001b[0msecondary_indices\u001b[0m\u001b[0;34m=\u001b[0m\u001b[0;32mNone\u001b[0m\u001b[0;34m,\u001b[0m\u001b[0;34m\u001b[0m\n",
       "\u001b[0;34m\u001b[0m    \u001b[0mmetadata_storage_format\u001b[0m\u001b[0;34m:\u001b[0m \u001b[0mstr\u001b[0m \u001b[0;34m=\u001b[0m \u001b[0;34m'json'\u001b[0m\u001b[0;34m,\u001b[0m\u001b[0;34m\u001b[0m\n",
       "\u001b[0;34m\u001b[0m    \u001b[0mmetadata_version\u001b[0m\u001b[0;34m:\u001b[0m \u001b[0mint\u001b[0m \u001b[0;34m=\u001b[0m \u001b[0;36m4\u001b[0m\u001b[0;34m,\u001b[0m\u001b[0;34m\u001b[0m\n",
       "\u001b[0;34m\u001b[0m\u001b[0;34m)\u001b[0m\u001b[0;34m\u001b[0m\u001b[0;34m\u001b[0m\u001b[0m\n",
       "\u001b[0;31mDocstring:\u001b[0m\n",
       "Utility function to store a list of dataframes as a partitioned dataset with multiple tables (files).\n",
       "\n",
       "Useful for very small datasets where all data fits into memory.\n",
       "\n",
       "Parameters\n",
       "----------\n",
       "store: Callable or str or simplekv.KeyValueStore\n",
       "    The store where we can find or store the dataset.\n",
       "\n",
       "    Can be either ``simplekv.KeyValueStore``, a storefact store url or a\n",
       "    generic Callable producing a ``simplekv.KeyValueStore``\n",
       "dataset_uuid: str\n",
       "    The dataset UUID\n",
       "metadata : Optional[Dict]\n",
       "    A dictionary used to update the dataset metadata.\n",
       "partition_on: List\n",
       "    Column names by which the dataset should be partitioned by physically.\n",
       "    These columns may later on be used as an Index to improve query performance.\n",
       "    Partition columns need to be present in all dataset tables.\n",
       "    Sensitive to ordering.\n",
       "df_serializer : Optional[kartothek.serialization.DataFrameSerializer]\n",
       "    A pandas DataFrame serialiser from `kartothek.serialization`\n",
       "overwrite: Optional[bool]\n",
       "    If True, allow overwrite of an existing dataset.\n",
       "secondary_indices: List[str]\n",
       "    A list of columns for which a secondary index should be calculated.\n",
       "metadata_storage_format: str\n",
       "    Optional list of datastorage format to use. Currently supported is `.json` & `.msgpack.zstd\"`\n",
       "metadata_version: Optional[int]\n",
       "    The dataset metadata version\n",
       "dfs:\n",
       "    The dataframe(s) to be stored.\n",
       "\u001b[0;31mFile:\u001b[0m      ~/src/github_repos/Default/pydata_demo/venv/lib/python3.8/site-packages/kartothek/io/eager.py\n",
       "\u001b[0;31mType:\u001b[0m      function\n"
      ]
     },
     "metadata": {},
     "output_type": "display_data"
    }
   ],
   "source": [
    "store_dataframes_as_dataset?"
   ]
  },
  {
   "cell_type": "code",
   "execution_count": 4,
   "id": "6d2aac32-0005-44a1-8e8f-1ba04b457d13",
   "metadata": {},
   "outputs": [],
   "source": [
    "dataset_uuid = \"clearly_not_a_standard_UUID\""
   ]
  },
  {
   "cell_type": "code",
   "execution_count": 5,
   "id": "83d0901f-caae-42f5-81bd-fa35d61fdb76",
   "metadata": {},
   "outputs": [
    {
     "data": {
      "text/plain": [
       "DatasetMetadata(uuid=clearly_not_a_standard_UUID, tables=['table'], partition_keys=[], metadata_version=4, indices=[], explicit_partitions=True)"
      ]
     },
     "execution_count": 5,
     "metadata": {},
     "output_type": "execute_result"
    }
   ],
   "source": [
    "# write operation\n",
    "store_dataframes_as_dataset(\n",
    "    store=store_url, dataset_uuid=dataset_uuid, dfs=[df]\n",
    ")\n"
   ]
  },
  {
   "cell_type": "code",
   "execution_count": 6,
   "id": "5fcaa8f0-2771-487e-a0eb-735f8b6299f3",
   "metadata": {},
   "outputs": [
    {
     "data": {
      "text/html": [
       "<div>\n",
       "<style scoped>\n",
       "    .dataframe tbody tr th:only-of-type {\n",
       "        vertical-align: middle;\n",
       "    }\n",
       "\n",
       "    .dataframe tbody tr th {\n",
       "        vertical-align: top;\n",
       "    }\n",
       "\n",
       "    .dataframe thead th {\n",
       "        text-align: right;\n",
       "    }\n",
       "</style>\n",
       "<table border=\"1\" class=\"dataframe\">\n",
       "  <thead>\n",
       "    <tr style=\"text-align: right;\">\n",
       "      <th></th>\n",
       "      <th>a</th>\n",
       "      <th>b</th>\n",
       "    </tr>\n",
       "  </thead>\n",
       "  <tbody>\n",
       "    <tr>\n",
       "      <th>0</th>\n",
       "      <td>1.0</td>\n",
       "      <td>one</td>\n",
       "    </tr>\n",
       "    <tr>\n",
       "      <th>1</th>\n",
       "      <td>2.0</td>\n",
       "      <td>two</td>\n",
       "    </tr>\n",
       "    <tr>\n",
       "      <th>2</th>\n",
       "      <td>4.5</td>\n",
       "      <td>three</td>\n",
       "    </tr>\n",
       "  </tbody>\n",
       "</table>\n",
       "</div>"
      ],
      "text/plain": [
       "     a      b\n",
       "0  1.0    one\n",
       "1  2.0    two\n",
       "2  4.5  three"
      ]
     },
     "execution_count": 6,
     "metadata": {},
     "output_type": "execute_result"
    }
   ],
   "source": [
    "# read it back\n",
    "df_from_store = read_table(store=store_url, dataset_uuid=dataset_uuid, table=\"table\")\n",
    "\n",
    "df_from_store"
   ]
  },
  {
   "cell_type": "code",
   "execution_count": null,
   "id": "d360a5a3-085e-445a-87b4-e361dfa6a68f",
   "metadata": {},
   "outputs": [],
   "source": []
  }
 ],
 "metadata": {
  "kernelspec": {
   "display_name": "Python 3 (ipykernel)",
   "language": "python",
   "name": "python3"
  },
  "language_info": {
   "codemirror_mode": {
    "name": "ipython",
    "version": 3
   },
   "file_extension": ".py",
   "mimetype": "text/x-python",
   "name": "python",
   "nbconvert_exporter": "python",
   "pygments_lexer": "ipython3",
   "version": "3.8.0"
  }
 },
 "nbformat": 4,
 "nbformat_minor": 5
}

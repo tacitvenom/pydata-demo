{
 "cells": [
  {
   "cell_type": "code",
   "execution_count": 1,
   "id": "65a6e991-019e-4fa5-8f7e-5d2dd05e89e6",
   "metadata": {},
   "outputs": [],
   "source": [
    "import time"
   ]
  },
  {
   "cell_type": "code",
   "execution_count": 3,
   "id": "c668d4be-a6e0-4488-beac-92225939e65e",
   "metadata": {},
   "outputs": [],
   "source": [
    "def _validate_output_file_name(name):\n",
    "    return \".\" not in name\n",
    "\n",
    "    \n",
    "def long_computation(output_file_name):\n",
    "    # Long-running stuff\n",
    "    time.sleep(3)\n",
    "    assert _validate_output_file_name(output_file_name)\n",
    "\n",
    "    "
   ]
  },
  {
   "cell_type": "code",
   "execution_count": 4,
   "id": "7293d304-496e-4fe2-9d0b-4f5e9f651c4a",
   "metadata": {},
   "outputs": [
    {
     "ename": "AssertionError",
     "evalue": "",
     "output_type": "error",
     "traceback": [
      "\u001b[0;31m---------------------------------------------------------------------------\u001b[0m",
      "\u001b[0;31mAssertionError\u001b[0m                            Traceback (most recent call last)",
      "\u001b[0;32m/var/folders/1n/lhjq9dqn7958502nz6_2w5bc0000gn/T/ipykernel_28794/1144112340.py\u001b[0m in \u001b[0;36m<module>\u001b[0;34m\u001b[0m\n\u001b[0;32m----> 1\u001b[0;31m \u001b[0mlong_computation\u001b[0m\u001b[0;34m(\u001b[0m\u001b[0;34m\"wh.oops\"\u001b[0m\u001b[0;34m)\u001b[0m\u001b[0;34m\u001b[0m\u001b[0;34m\u001b[0m\u001b[0m\n\u001b[0m",
      "\u001b[0;32m/var/folders/1n/lhjq9dqn7958502nz6_2w5bc0000gn/T/ipykernel_28794/2227723747.py\u001b[0m in \u001b[0;36mlong_computation\u001b[0;34m(output_file_name)\u001b[0m\n\u001b[1;32m      6\u001b[0m     \u001b[0;31m# Long-running stuff\u001b[0m\u001b[0;34m\u001b[0m\u001b[0;34m\u001b[0m\u001b[0;34m\u001b[0m\u001b[0m\n\u001b[1;32m      7\u001b[0m     \u001b[0mtime\u001b[0m\u001b[0;34m.\u001b[0m\u001b[0msleep\u001b[0m\u001b[0;34m(\u001b[0m\u001b[0;36m3\u001b[0m\u001b[0;34m)\u001b[0m\u001b[0;34m\u001b[0m\u001b[0;34m\u001b[0m\u001b[0m\n\u001b[0;32m----> 8\u001b[0;31m     \u001b[0;32massert\u001b[0m \u001b[0m_validate_output_file_name\u001b[0m\u001b[0;34m(\u001b[0m\u001b[0moutput_file_name\u001b[0m\u001b[0;34m)\u001b[0m\u001b[0;34m\u001b[0m\u001b[0;34m\u001b[0m\u001b[0m\n\u001b[0m\u001b[1;32m      9\u001b[0m \u001b[0;34m\u001b[0m\u001b[0m\n\u001b[1;32m     10\u001b[0m \u001b[0;34m\u001b[0m\u001b[0m\n",
      "\u001b[0;31mAssertionError\u001b[0m: "
     ]
    }
   ],
   "source": [
    "long_computation(\"wh.oops\")"
   ]
  },
  {
   "cell_type": "code",
   "execution_count": null,
   "id": "c01bff3b-f4b4-4f1b-9d51-8059c4fb8236",
   "metadata": {},
   "outputs": [],
   "source": []
  }
 ],
 "metadata": {
  "kernelspec": {
   "display_name": "Python 3 (ipykernel)",
   "language": "python",
   "name": "python3"
  },
  "language_info": {
   "codemirror_mode": {
    "name": "ipython",
    "version": 3
   },
   "file_extension": ".py",
   "mimetype": "text/x-python",
   "name": "python",
   "nbconvert_exporter": "python",
   "pygments_lexer": "ipython3",
   "version": "3.8.0"
  }
 },
 "nbformat": 4,
 "nbformat_minor": 5
}
